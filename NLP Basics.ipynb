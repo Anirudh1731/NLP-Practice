{
 "cells": [
  {
   "cell_type": "code",
   "execution_count": 1,
   "id": "422d5525",
   "metadata": {},
   "outputs": [
    {
     "name": "stdout",
     "output_type": "stream",
     "text": [
      "Requirement already satisfied: nltk in c:\\users\\anirudh\\anaconda3\\lib\\site-packages (3.8.1)\n",
      "Requirement already satisfied: click in c:\\users\\anirudh\\anaconda3\\lib\\site-packages (from nltk) (8.0.4)\n",
      "Requirement already satisfied: joblib in c:\\users\\anirudh\\anaconda3\\lib\\site-packages (from nltk) (1.2.0)\n",
      "Requirement already satisfied: regex>=2021.8.3 in c:\\users\\anirudh\\anaconda3\\lib\\site-packages (from nltk) (2022.7.9)\n",
      "Requirement already satisfied: tqdm in c:\\users\\anirudh\\anaconda3\\lib\\site-packages (from nltk) (4.65.0)\n",
      "Requirement already satisfied: colorama in c:\\users\\anirudh\\anaconda3\\lib\\site-packages (from click->nltk) (0.4.6)\n"
     ]
    }
   ],
   "source": [
    "!pip install nltk"
   ]
  },
  {
   "cell_type": "code",
   "execution_count": 2,
   "id": "67c6d21a",
   "metadata": {},
   "outputs": [],
   "source": [
    "#corpus\n",
    "para='''\n",
    "Mahendra Singh Dhoni (/məˈheɪndrə ˈsɪŋ dhæˈnɪ/ ⓘ; born 7 July 1981) is an Indian professional cricketer. He is a right handed batter and a wicket-keeper. Widely regarded as one of the most prolific wicket-keeper-batsmen and captains, he represented the Indian cricket team and was the captain of the side in limited-overs formats from 2007 to 2017 and in test cricket from 2008 to 2014. Dhoni has captained the most international matches and is the most successful Indian captain. He has led India to victory in the 2011 Cricket World Cup, the 2007 ICC World Twenty20 and the 2013 ICC Champions Trophy, the only captain to win three different limited overs tournaments. He also led the teams that won the Asia Cup in 2010, 2016 and was a member of the title winning squad in 2018.\n",
    "\n",
    "Born in Ranchi, Dhoni made his first class debut for Bihar in 1999. He made his debut for the Indian cricket team on 23 December 2004 in an ODI against Bangladesh and played his first test a year later against Sri Lanka. In 2007, he became the captain of the ODI side before taking over in all formats by 2008. Dhoni retired from test cricket in 2014, but continued playing in limited overs cricket till 2019. He has scored 17,266 runs in international cricket including 10,000 plus runs at an average of more than 50 in ODIs.\n",
    "'''"
   ]
  },
  {
   "cell_type": "code",
   "execution_count": 3,
   "id": "f8ecc988",
   "metadata": {},
   "outputs": [],
   "source": [
    "import nltk\n",
    "\n",
    "from nltk.stem import PorterStemmer\n",
    "from nltk.corpus import stopwords"
   ]
  },
  {
   "cell_type": "code",
   "execution_count": 4,
   "id": "430ed334",
   "metadata": {},
   "outputs": [
    {
     "name": "stderr",
     "output_type": "stream",
     "text": [
      "[nltk_data] Downloading package punkt to\n",
      "[nltk_data]     C:\\Users\\Anirudh\\AppData\\Roaming\\nltk_data...\n",
      "[nltk_data]   Unzipping tokenizers\\punkt.zip.\n"
     ]
    }
   ],
   "source": [
    "# tokenization (sent tokeize is for getting sentences)\n",
    "nltk.download('punkt')\n",
    "sentences=nltk.sent_tokenize(para)"
   ]
  },
  {
   "cell_type": "code",
   "execution_count": 5,
   "id": "9aa68e01",
   "metadata": {},
   "outputs": [
    {
     "name": "stdout",
     "output_type": "stream",
     "text": [
      "['\\nMahendra Singh Dhoni (/məˈheɪndrə ˈsɪŋ dhæˈnɪ/ ⓘ; born 7 July 1981) is an Indian professional cricketer.', 'He is a right handed batter and a wicket-keeper.', 'Widely regarded as one of the most prolific wicket-keeper-batsmen and captains, he represented the Indian cricket team and was the captain of the side in limited-overs formats from 2007 to 2017 and in test cricket from 2008 to 2014.', 'Dhoni has captained the most international matches and is the most successful Indian captain.', 'He has led India to victory in the 2011 Cricket World Cup, the 2007 ICC World Twenty20 and the 2013 ICC Champions Trophy, the only captain to win three different limited overs tournaments.', 'He also led the teams that won the Asia Cup in 2010, 2016 and was a member of the title winning squad in 2018.', 'Born in Ranchi, Dhoni made his first class debut for Bihar in 1999.', 'He made his debut for the Indian cricket team on 23 December 2004 in an ODI against Bangladesh and played his first test a year later against Sri Lanka.', 'In 2007, he became the captain of the ODI side before taking over in all formats by 2008.', 'Dhoni retired from test cricket in 2014, but continued playing in limited overs cricket till 2019.', 'He has scored 17,266 runs in international cricket including 10,000 plus runs at an average of more than 50 in ODIs.']\n"
     ]
    }
   ],
   "source": [
    "print(sentences)"
   ]
  },
  {
   "cell_type": "code",
   "execution_count": 6,
   "id": "58e791cf",
   "metadata": {},
   "outputs": [],
   "source": [
    "stemmer=PorterStemmer()"
   ]
  },
  {
   "cell_type": "code",
   "execution_count": 7,
   "id": "c526ffc2",
   "metadata": {},
   "outputs": [
    {
     "data": {
      "text/plain": [
       "'drink'"
      ]
     },
     "execution_count": 7,
     "metadata": {},
     "output_type": "execute_result"
    }
   ],
   "source": [
    "stemmer.stem('drinking')"
   ]
  },
  {
   "cell_type": "code",
   "execution_count": 8,
   "id": "68f7ab8f",
   "metadata": {},
   "outputs": [
    {
     "data": {
      "text/plain": [
       "'histor'"
      ]
     },
     "execution_count": 8,
     "metadata": {},
     "output_type": "execute_result"
    }
   ],
   "source": [
    "stemmer.stem('Historical')"
   ]
  },
  {
   "cell_type": "code",
   "execution_count": 13,
   "id": "71a5b448",
   "metadata": {},
   "outputs": [
    {
     "name": "stderr",
     "output_type": "stream",
     "text": [
      "[nltk_data] Downloading package wordnet to\n",
      "[nltk_data]     C:\\Users\\Anirudh\\AppData\\Roaming\\nltk_data...\n"
     ]
    }
   ],
   "source": [
    "#creating lemmatizer as sit gives much more good root word in comparison to stemming\n",
    "nltk.download('wordnet')\n",
    "from nltk.stem import WordNetLemmatizer"
   ]
  },
  {
   "cell_type": "code",
   "execution_count": 14,
   "id": "9ffe7acf",
   "metadata": {},
   "outputs": [],
   "source": [
    "lemmatizer=WordNetLemmatizer()"
   ]
  },
  {
   "cell_type": "code",
   "execution_count": 15,
   "id": "1912762b",
   "metadata": {},
   "outputs": [
    {
     "data": {
      "text/plain": [
       "'Historical'"
      ]
     },
     "execution_count": 15,
     "metadata": {},
     "output_type": "execute_result"
    }
   ],
   "source": [
    "lemmatizer.lemmatize('Historical')"
   ]
  },
  {
   "cell_type": "code",
   "execution_count": 17,
   "id": "30ecdb69",
   "metadata": {},
   "outputs": [],
   "source": [
    "import re\n",
    "corpus=[]\n",
    "\n",
    "for i in range(len(sentences)):\n",
    "    review=re.sub('[^a-zA-Z]',' ',sentences[i])\n",
    "    review=review.lower()\n",
    "    \n",
    "    corpus.append(review)"
   ]
  },
  {
   "cell_type": "raw",
   "id": "0657cf71",
   "metadata": {},
   "source": [
    "corpus"
   ]
  },
  {
   "cell_type": "code",
   "execution_count": 18,
   "id": "eccbf5bd",
   "metadata": {},
   "outputs": [
    {
     "data": {
      "text/plain": [
       "[' mahendra singh dhoni   m  he ndr   s   dh  n      born   july       is an indian professional cricketer ',\n",
       " 'he is a right handed batter and a wicket keeper ',\n",
       " 'widely regarded as one of the most prolific wicket keeper batsmen and captains  he represented the indian cricket team and was the captain of the side in limited overs formats from      to      and in test cricket from      to      ',\n",
       " 'dhoni has captained the most international matches and is the most successful indian captain ',\n",
       " 'he has led india to victory in the      cricket world cup  the      icc world twenty   and the      icc champions trophy  the only captain to win three different limited overs tournaments ',\n",
       " 'he also led the teams that won the asia cup in            and was a member of the title winning squad in      ',\n",
       " 'born in ranchi  dhoni made his first class debut for bihar in      ',\n",
       " 'he made his debut for the indian cricket team on    december      in an odi against bangladesh and played his first test a year later against sri lanka ',\n",
       " 'in       he became the captain of the odi side before taking over in all formats by      ',\n",
       " 'dhoni retired from test cricket in       but continued playing in limited overs cricket till      ',\n",
       " 'he has scored        runs in international cricket including        plus runs at an average of more than    in odis ']"
      ]
     },
     "execution_count": 18,
     "metadata": {},
     "output_type": "execute_result"
    }
   ],
   "source": [
    "corpus"
   ]
  },
  {
   "cell_type": "code",
   "execution_count": 20,
   "id": "ccd568d1",
   "metadata": {},
   "outputs": [
    {
     "name": "stderr",
     "output_type": "stream",
     "text": [
      "[nltk_data] Downloading package stopwords to\n",
      "[nltk_data]     C:\\Users\\Anirudh\\AppData\\Roaming\\nltk_data...\n",
      "[nltk_data]   Unzipping corpora\\stopwords.zip.\n"
     ]
    },
    {
     "name": "stdout",
     "output_type": "stream",
     "text": [
      "mahendra\n",
      "singh\n",
      "dhoni\n",
      "ndr\n",
      "dh\n",
      "n\n",
      "born\n",
      "juli\n",
      "indian\n",
      "profession\n",
      "cricket\n",
      "right\n",
      "hand\n",
      "batter\n",
      "wicket\n",
      "keeper\n",
      "wide\n",
      "regard\n",
      "one\n",
      "prolif\n",
      "wicket\n",
      "keeper\n",
      "batsmen\n",
      "captain\n",
      "repres\n",
      "indian\n",
      "cricket\n",
      "team\n",
      "captain\n",
      "side\n",
      "limit\n",
      "over\n",
      "format\n",
      "test\n",
      "cricket\n",
      "dhoni\n",
      "captain\n",
      "intern\n",
      "match\n",
      "success\n",
      "indian\n",
      "captain\n",
      "led\n",
      "india\n",
      "victori\n",
      "cricket\n",
      "world\n",
      "cup\n",
      "icc\n",
      "world\n",
      "twenti\n",
      "icc\n",
      "champion\n",
      "trophi\n",
      "captain\n",
      "win\n",
      "three\n",
      "differ\n",
      "limit\n",
      "over\n",
      "tournament\n",
      "also\n",
      "led\n",
      "team\n",
      "asia\n",
      "cup\n",
      "member\n",
      "titl\n",
      "win\n",
      "squad\n",
      "born\n",
      "ranchi\n",
      "dhoni\n",
      "made\n",
      "first\n",
      "class\n",
      "debut\n",
      "bihar\n",
      "made\n",
      "debut\n",
      "indian\n",
      "cricket\n",
      "team\n",
      "decemb\n",
      "odi\n",
      "bangladesh\n",
      "play\n",
      "first\n",
      "test\n",
      "year\n",
      "later\n",
      "sri\n",
      "lanka\n",
      "becam\n",
      "captain\n",
      "odi\n",
      "side\n",
      "take\n",
      "format\n",
      "dhoni\n",
      "retir\n",
      "test\n",
      "cricket\n",
      "continu\n",
      "play\n",
      "limit\n",
      "over\n",
      "cricket\n",
      "till\n",
      "score\n",
      "run\n",
      "intern\n",
      "cricket\n",
      "includ\n",
      "plu\n",
      "run\n",
      "averag\n",
      "odi\n"
     ]
    }
   ],
   "source": [
    "# applying stemming \n",
    "nltk.download('stopwords')\n",
    "for i in corpus:\n",
    "    #sentence to words\n",
    "    words=nltk.word_tokenize(i)\n",
    "    for word in words:\n",
    "        if word not in set(stopwords.words('english')):\n",
    "            print(stemmer.stem(word))\n"
   ]
  },
  {
   "cell_type": "code",
   "execution_count": 23,
   "id": "2f910d39",
   "metadata": {},
   "outputs": [
    {
     "name": "stdout",
     "output_type": "stream",
     "text": [
      "mahendra\n",
      "singh\n",
      "dhoni\n",
      "ndr\n",
      "dh\n",
      "n\n",
      "born\n",
      "july\n",
      "indian\n",
      "professional\n",
      "cricketer\n",
      "right\n",
      "handed\n",
      "batter\n",
      "wicket\n",
      "keeper\n",
      "widely\n",
      "regarded\n",
      "one\n",
      "prolific\n",
      "wicket\n",
      "keeper\n",
      "batsman\n",
      "captain\n",
      "represented\n",
      "indian\n",
      "cricket\n",
      "team\n",
      "captain\n",
      "side\n",
      "limited\n",
      "over\n",
      "format\n",
      "test\n",
      "cricket\n",
      "dhoni\n",
      "captained\n",
      "international\n",
      "match\n",
      "successful\n",
      "indian\n",
      "captain\n",
      "led\n",
      "india\n",
      "victory\n",
      "cricket\n",
      "world\n",
      "cup\n",
      "icc\n",
      "world\n",
      "twenty\n",
      "icc\n",
      "champion\n",
      "trophy\n",
      "captain\n",
      "win\n",
      "three\n",
      "different\n",
      "limited\n",
      "over\n",
      "tournament\n",
      "also\n",
      "led\n",
      "team\n",
      "asia\n",
      "cup\n",
      "member\n",
      "title\n",
      "winning\n",
      "squad\n",
      "born\n",
      "ranchi\n",
      "dhoni\n",
      "made\n",
      "first\n",
      "class\n",
      "debut\n",
      "bihar\n",
      "made\n",
      "debut\n",
      "indian\n",
      "cricket\n",
      "team\n",
      "december\n",
      "odi\n",
      "bangladesh\n",
      "played\n",
      "first\n",
      "test\n",
      "year\n",
      "later\n",
      "sri\n",
      "lanka\n",
      "became\n",
      "captain\n",
      "odi\n",
      "side\n",
      "taking\n",
      "format\n",
      "dhoni\n",
      "retired\n",
      "test\n",
      "cricket\n",
      "continued\n",
      "playing\n",
      "limited\n",
      "over\n",
      "cricket\n",
      "till\n",
      "scored\n",
      "run\n",
      "international\n",
      "cricket\n",
      "including\n",
      "plus\n",
      "run\n",
      "average\n",
      "odis\n"
     ]
    }
   ],
   "source": [
    "#applying lemmatizer\n",
    "for i in corpus:\n",
    "    #sentence to words\n",
    "    words=nltk.word_tokenize(i)\n",
    "    for word in words:\n",
    "        if word not in set(stopwords.words('english')):\n",
    "            print(lemmatizer.lemmatize(word))"
   ]
  },
  {
   "cell_type": "code",
   "execution_count": 24,
   "id": "9a1da904",
   "metadata": {},
   "outputs": [],
   "source": [
    "#applying vectorization\n",
    "\n",
    "from sklearn.feature_extraction.text import CountVectorizer"
   ]
  },
  {
   "cell_type": "code",
   "execution_count": 25,
   "id": "f093a5c9",
   "metadata": {},
   "outputs": [],
   "source": [
    "cv=CountVectorizer()"
   ]
  },
  {
   "cell_type": "code",
   "execution_count": 27,
   "id": "f8a9899d",
   "metadata": {},
   "outputs": [],
   "source": [
    "x=cv.fit_transform(corpus)"
   ]
  },
  {
   "cell_type": "code",
   "execution_count": 28,
   "id": "32102d38",
   "metadata": {},
   "outputs": [
    {
     "data": {
      "text/plain": [
       "<11x108 sparse matrix of type '<class 'numpy.int64'>'\n",
       "\twith 179 stored elements in Compressed Sparse Row format>"
      ]
     },
     "execution_count": 28,
     "metadata": {},
     "output_type": "execute_result"
    }
   ],
   "source": [
    "x"
   ]
  },
  {
   "cell_type": "code",
   "execution_count": 41,
   "id": "f7ed908c",
   "metadata": {},
   "outputs": [
    {
     "data": {
      "text/plain": [
       "{'mahendra': 54,\n",
       " 'singh': 81,\n",
       " 'dhoni': 30,\n",
       " 'he': 38,\n",
       " 'ndr': 59,\n",
       " 'dh': 29,\n",
       " 'born': 15,\n",
       " 'july': 47,\n",
       " 'is': 46,\n",
       " 'an': 3,\n",
       " 'indian': 44,\n",
       " 'professional': 71,\n",
       " 'cricketer': 25,\n",
       " 'right': 77,\n",
       " 'handed': 36,\n",
       " 'batter': 11,\n",
       " 'and': 4,\n",
       " 'wicket': 101,\n",
       " 'keeper': 48,\n",
       " 'widely': 102,\n",
       " 'regarded': 74,\n",
       " 'as': 5,\n",
       " 'one': 64,\n",
       " 'of': 62,\n",
       " 'the': 91,\n",
       " 'most': 58,\n",
       " 'prolific': 72,\n",
       " 'batsmen': 10,\n",
       " 'captains': 20,\n",
       " 'represented': 75,\n",
       " 'cricket': 24,\n",
       " 'team': 86,\n",
       " 'was': 100,\n",
       " 'captain': 18,\n",
       " 'side': 80,\n",
       " 'in': 41,\n",
       " 'limited': 52,\n",
       " 'overs': 67,\n",
       " 'formats': 34,\n",
       " 'from': 35,\n",
       " 'to': 95,\n",
       " 'test': 88,\n",
       " 'has': 37,\n",
       " 'captained': 19,\n",
       " 'international': 45,\n",
       " 'matches': 55,\n",
       " 'successful': 84,\n",
       " 'led': 51,\n",
       " 'india': 43,\n",
       " 'victory': 99,\n",
       " 'world': 106,\n",
       " 'cup': 26,\n",
       " 'icc': 40,\n",
       " 'twenty': 98,\n",
       " 'champions': 21,\n",
       " 'trophy': 97,\n",
       " 'only': 65,\n",
       " 'win': 103,\n",
       " 'three': 92,\n",
       " 'different': 31,\n",
       " 'tournaments': 96,\n",
       " 'also': 2,\n",
       " 'teams': 87,\n",
       " 'that': 90,\n",
       " 'won': 105,\n",
       " 'asia': 6,\n",
       " 'member': 56,\n",
       " 'title': 94,\n",
       " 'winning': 104,\n",
       " 'squad': 82,\n",
       " 'ranchi': 73,\n",
       " 'made': 53,\n",
       " 'his': 39,\n",
       " 'first': 32,\n",
       " 'class': 22,\n",
       " 'debut': 27,\n",
       " 'for': 33,\n",
       " 'bihar': 14,\n",
       " 'on': 63,\n",
       " 'december': 28,\n",
       " 'odi': 60,\n",
       " 'against': 0,\n",
       " 'bangladesh': 9,\n",
       " 'played': 68,\n",
       " 'year': 107,\n",
       " 'later': 50,\n",
       " 'sri': 83,\n",
       " 'lanka': 49,\n",
       " 'became': 12,\n",
       " 'before': 13,\n",
       " 'taking': 85,\n",
       " 'over': 66,\n",
       " 'all': 1,\n",
       " 'by': 17,\n",
       " 'retired': 76,\n",
       " 'but': 16,\n",
       " 'continued': 23,\n",
       " 'playing': 69,\n",
       " 'till': 93,\n",
       " 'scored': 79,\n",
       " 'runs': 78,\n",
       " 'including': 42,\n",
       " 'plus': 70,\n",
       " 'at': 7,\n",
       " 'average': 8,\n",
       " 'more': 57,\n",
       " 'than': 89,\n",
       " 'odis': 61}"
      ]
     },
     "execution_count": 41,
     "metadata": {},
     "output_type": "execute_result"
    }
   ],
   "source": [
    "# here the index of each of them is mentioned\n",
    "cv.vocabulary_"
   ]
  },
  {
   "cell_type": "code",
   "execution_count": 35,
   "id": "2a520c62",
   "metadata": {},
   "outputs": [
    {
     "data": {
      "text/plain": [
       "' mahendra singh dhoni   m  he ndr   s   dh  n      born   july       is an indian professional cricketer '"
      ]
     },
     "execution_count": 35,
     "metadata": {},
     "output_type": "execute_result"
    }
   ],
   "source": [
    "corpus[0]"
   ]
  },
  {
   "cell_type": "code",
   "execution_count": 37,
   "id": "76f0d2e0",
   "metadata": {},
   "outputs": [
    {
     "data": {
      "text/plain": [
       "array([[0, 0, 0, 1, 0, 0, 0, 0, 0, 0, 0, 0, 0, 0, 0, 1, 0, 0, 0, 0, 0, 0,\n",
       "        0, 0, 0, 1, 0, 0, 0, 1, 1, 0, 0, 0, 0, 0, 0, 0, 1, 0, 0, 0, 0, 0,\n",
       "        1, 0, 1, 1, 0, 0, 0, 0, 0, 0, 1, 0, 0, 0, 0, 1, 0, 0, 0, 0, 0, 0,\n",
       "        0, 0, 0, 0, 0, 1, 0, 0, 0, 0, 0, 0, 0, 0, 0, 1, 0, 0, 0, 0, 0, 0,\n",
       "        0, 0, 0, 0, 0, 0, 0, 0, 0, 0, 0, 0, 0, 0, 0, 0, 0, 0, 0, 0]],\n",
       "      dtype=int64)"
      ]
     },
     "execution_count": 37,
     "metadata": {},
     "output_type": "execute_result"
    }
   ],
   "source": [
    "# applying bag of words\n",
    "x[0].toarray()"
   ]
  },
  {
   "cell_type": "code",
   "execution_count": null,
   "id": "370fcbeb",
   "metadata": {},
   "outputs": [],
   "source": []
  }
 ],
 "metadata": {
  "kernelspec": {
   "display_name": "Python 3 (ipykernel)",
   "language": "python",
   "name": "python3"
  },
  "language_info": {
   "codemirror_mode": {
    "name": "ipython",
    "version": 3
   },
   "file_extension": ".py",
   "mimetype": "text/x-python",
   "name": "python",
   "nbconvert_exporter": "python",
   "pygments_lexer": "ipython3",
   "version": "3.11.5"
  }
 },
 "nbformat": 4,
 "nbformat_minor": 5
}
