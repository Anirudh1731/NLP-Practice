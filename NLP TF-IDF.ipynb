{
 "cells": [
  {
   "cell_type": "code",
   "execution_count": 2,
   "id": "422d5525",
   "metadata": {},
   "outputs": [
    {
     "name": "stdout",
     "output_type": "stream",
     "text": [
      "Requirement already satisfied: nltk in c:\\users\\anirudh\\anaconda3\\lib\\site-packages (3.8.1)\n",
      "Requirement already satisfied: click in c:\\users\\anirudh\\anaconda3\\lib\\site-packages (from nltk) (8.0.4)\n",
      "Requirement already satisfied: joblib in c:\\users\\anirudh\\anaconda3\\lib\\site-packages (from nltk) (1.2.0)\n",
      "Requirement already satisfied: regex>=2021.8.3 in c:\\users\\anirudh\\anaconda3\\lib\\site-packages (from nltk) (2022.7.9)\n",
      "Requirement already satisfied: tqdm in c:\\users\\anirudh\\anaconda3\\lib\\site-packages (from nltk) (4.65.0)\n",
      "Requirement already satisfied: colorama in c:\\users\\anirudh\\anaconda3\\lib\\site-packages (from click->nltk) (0.4.6)\n"
     ]
    }
   ],
   "source": [
    "!pip install nltk"
   ]
  },
  {
   "cell_type": "code",
   "execution_count": 3,
   "id": "67c6d21a",
   "metadata": {},
   "outputs": [],
   "source": [
    "#corpus\n",
    "para='''\n",
    "Mahendra Singh Dhoni (/məˈheɪndrə ˈsɪŋ dhæˈnɪ/ ⓘ; born 7 July 1981) is an Indian professional cricketer. He is a right handed batter and a wicket-keeper. Widely regarded as one of the most prolific wicket-keeper-batsmen and captains, he represented the Indian cricket team and was the captain of the side in limited-overs formats from 2007 to 2017 and in test cricket from 2008 to 2014. Dhoni has captained the most international matches and is the most successful Indian captain. He has led India to victory in the 2011 Cricket World Cup, the 2007 ICC World Twenty20 and the 2013 ICC Champions Trophy, the only captain to win three different limited overs tournaments. He also led the teams that won the Asia Cup in 2010, 2016 and was a member of the title winning squad in 2018.\n",
    "\n",
    "Born in Ranchi, Dhoni made his first class debut for Bihar in 1999. He made his debut for the Indian cricket team on 23 December 2004 in an ODI against Bangladesh and played his first test a year later against Sri Lanka. In 2007, he became the captain of the ODI side before taking over in all formats by 2008. Dhoni retired from test cricket in 2014, but continued playing in limited overs cricket till 2019. He has scored 17,266 runs in international cricket including 10,000 plus runs at an average of more than 50 in ODIs.\n",
    "'''"
   ]
  },
  {
   "cell_type": "code",
   "execution_count": 4,
   "id": "f8ecc988",
   "metadata": {},
   "outputs": [],
   "source": [
    "import nltk\n",
    "\n",
    "from nltk.stem import PorterStemmer\n",
    "from nltk.corpus import stopwords"
   ]
  },
  {
   "cell_type": "code",
   "execution_count": 5,
   "id": "430ed334",
   "metadata": {},
   "outputs": [
    {
     "name": "stderr",
     "output_type": "stream",
     "text": [
      "[nltk_data] Downloading package punkt to\n",
      "[nltk_data]     C:\\Users\\Anirudh\\AppData\\Roaming\\nltk_data...\n",
      "[nltk_data]   Package punkt is already up-to-date!\n"
     ]
    }
   ],
   "source": [
    "# tokenization (sent tokeize is for getting sentences)\n",
    "nltk.download('punkt')\n",
    "sentences=nltk.sent_tokenize(para)"
   ]
  },
  {
   "cell_type": "code",
   "execution_count": 6,
   "id": "9aa68e01",
   "metadata": {},
   "outputs": [
    {
     "name": "stdout",
     "output_type": "stream",
     "text": [
      "['\\nMahendra Singh Dhoni (/məˈheɪndrə ˈsɪŋ dhæˈnɪ/ ⓘ; born 7 July 1981) is an Indian professional cricketer.', 'He is a right handed batter and a wicket-keeper.', 'Widely regarded as one of the most prolific wicket-keeper-batsmen and captains, he represented the Indian cricket team and was the captain of the side in limited-overs formats from 2007 to 2017 and in test cricket from 2008 to 2014.', 'Dhoni has captained the most international matches and is the most successful Indian captain.', 'He has led India to victory in the 2011 Cricket World Cup, the 2007 ICC World Twenty20 and the 2013 ICC Champions Trophy, the only captain to win three different limited overs tournaments.', 'He also led the teams that won the Asia Cup in 2010, 2016 and was a member of the title winning squad in 2018.', 'Born in Ranchi, Dhoni made his first class debut for Bihar in 1999.', 'He made his debut for the Indian cricket team on 23 December 2004 in an ODI against Bangladesh and played his first test a year later against Sri Lanka.', 'In 2007, he became the captain of the ODI side before taking over in all formats by 2008.', 'Dhoni retired from test cricket in 2014, but continued playing in limited overs cricket till 2019.', 'He has scored 17,266 runs in international cricket including 10,000 plus runs at an average of more than 50 in ODIs.']\n"
     ]
    }
   ],
   "source": [
    "print(sentences)"
   ]
  },
  {
   "cell_type": "code",
   "execution_count": 7,
   "id": "58e791cf",
   "metadata": {},
   "outputs": [],
   "source": [
    "stemmer=PorterStemmer()"
   ]
  },
  {
   "cell_type": "code",
   "execution_count": 8,
   "id": "c526ffc2",
   "metadata": {},
   "outputs": [
    {
     "data": {
      "text/plain": [
       "'drink'"
      ]
     },
     "execution_count": 8,
     "metadata": {},
     "output_type": "execute_result"
    }
   ],
   "source": [
    "stemmer.stem('drinking')"
   ]
  },
  {
   "cell_type": "code",
   "execution_count": 9,
   "id": "68f7ab8f",
   "metadata": {},
   "outputs": [
    {
     "data": {
      "text/plain": [
       "'histor'"
      ]
     },
     "execution_count": 9,
     "metadata": {},
     "output_type": "execute_result"
    }
   ],
   "source": [
    "stemmer.stem('Historical')"
   ]
  },
  {
   "cell_type": "code",
   "execution_count": 10,
   "id": "71a5b448",
   "metadata": {},
   "outputs": [
    {
     "name": "stderr",
     "output_type": "stream",
     "text": [
      "[nltk_data] Downloading package wordnet to\n",
      "[nltk_data]     C:\\Users\\Anirudh\\AppData\\Roaming\\nltk_data...\n",
      "[nltk_data]   Package wordnet is already up-to-date!\n"
     ]
    }
   ],
   "source": [
    "#creating lemmatizer as sit gives much more good root word in comparison to stemming\n",
    "nltk.download('wordnet')\n",
    "from nltk.stem import WordNetLemmatizer"
   ]
  },
  {
   "cell_type": "code",
   "execution_count": 11,
   "id": "9ffe7acf",
   "metadata": {},
   "outputs": [],
   "source": [
    "lemmatizer=WordNetLemmatizer()"
   ]
  },
  {
   "cell_type": "code",
   "execution_count": 12,
   "id": "1912762b",
   "metadata": {},
   "outputs": [
    {
     "data": {
      "text/plain": [
       "'Historical'"
      ]
     },
     "execution_count": 12,
     "metadata": {},
     "output_type": "execute_result"
    }
   ],
   "source": [
    "lemmatizer.lemmatize('Historical')"
   ]
  },
  {
   "cell_type": "code",
   "execution_count": 13,
   "id": "30ecdb69",
   "metadata": {},
   "outputs": [],
   "source": [
    "import re\n",
    "corpus=[]\n",
    "\n",
    "for i in range(len(sentences)):\n",
    "    review=re.sub('[^a-zA-Z]',' ',sentences[i])\n",
    "    review=review.lower()\n",
    "    \n",
    "    corpus.append(review)"
   ]
  },
  {
   "cell_type": "raw",
   "id": "0657cf71",
   "metadata": {},
   "source": [
    "corpus"
   ]
  },
  {
   "cell_type": "code",
   "execution_count": 14,
   "id": "eccbf5bd",
   "metadata": {},
   "outputs": [
    {
     "data": {
      "text/plain": [
       "[' mahendra singh dhoni   m  he ndr   s   dh  n      born   july       is an indian professional cricketer ',\n",
       " 'he is a right handed batter and a wicket keeper ',\n",
       " 'widely regarded as one of the most prolific wicket keeper batsmen and captains  he represented the indian cricket team and was the captain of the side in limited overs formats from      to      and in test cricket from      to      ',\n",
       " 'dhoni has captained the most international matches and is the most successful indian captain ',\n",
       " 'he has led india to victory in the      cricket world cup  the      icc world twenty   and the      icc champions trophy  the only captain to win three different limited overs tournaments ',\n",
       " 'he also led the teams that won the asia cup in            and was a member of the title winning squad in      ',\n",
       " 'born in ranchi  dhoni made his first class debut for bihar in      ',\n",
       " 'he made his debut for the indian cricket team on    december      in an odi against bangladesh and played his first test a year later against sri lanka ',\n",
       " 'in       he became the captain of the odi side before taking over in all formats by      ',\n",
       " 'dhoni retired from test cricket in       but continued playing in limited overs cricket till      ',\n",
       " 'he has scored        runs in international cricket including        plus runs at an average of more than    in odis ']"
      ]
     },
     "execution_count": 14,
     "metadata": {},
     "output_type": "execute_result"
    }
   ],
   "source": [
    "corpus"
   ]
  },
  {
   "cell_type": "code",
   "execution_count": 15,
   "id": "ccd568d1",
   "metadata": {},
   "outputs": [
    {
     "name": "stdout",
     "output_type": "stream",
     "text": [
      "mahendra\n",
      "singh\n",
      "dhoni\n",
      "ndr\n",
      "dh\n",
      "n\n",
      "born\n",
      "juli\n",
      "indian\n",
      "profession\n",
      "cricket\n",
      "right\n",
      "hand\n",
      "batter\n",
      "wicket\n",
      "keeper\n",
      "wide\n",
      "regard\n",
      "one\n",
      "prolif\n",
      "wicket\n",
      "keeper\n",
      "batsmen\n",
      "captain\n",
      "repres\n",
      "indian\n",
      "cricket\n",
      "team\n",
      "captain\n",
      "side\n",
      "limit\n",
      "over\n",
      "format\n",
      "test\n",
      "cricket\n",
      "dhoni\n",
      "captain\n",
      "intern\n",
      "match\n",
      "success\n",
      "indian\n",
      "captain\n",
      "led\n",
      "india\n",
      "victori\n",
      "cricket\n",
      "world\n",
      "cup\n",
      "icc\n",
      "world\n",
      "twenti\n",
      "icc\n",
      "champion\n",
      "trophi\n",
      "captain\n",
      "win\n",
      "three\n",
      "differ\n",
      "limit\n",
      "over\n",
      "tournament\n",
      "also\n",
      "led\n",
      "team\n",
      "asia\n",
      "cup\n",
      "member\n",
      "titl\n",
      "win\n",
      "squad\n",
      "born\n",
      "ranchi\n",
      "dhoni\n",
      "made\n",
      "first\n",
      "class\n",
      "debut\n",
      "bihar\n",
      "made\n",
      "debut\n",
      "indian\n",
      "cricket\n",
      "team\n",
      "decemb\n",
      "odi\n",
      "bangladesh\n",
      "play\n",
      "first\n",
      "test\n",
      "year\n",
      "later\n",
      "sri\n",
      "lanka\n",
      "becam\n",
      "captain\n",
      "odi\n",
      "side\n",
      "take\n",
      "format\n",
      "dhoni\n",
      "retir\n",
      "test\n",
      "cricket\n",
      "continu\n",
      "play\n",
      "limit\n",
      "over\n",
      "cricket\n",
      "till\n",
      "score\n",
      "run\n",
      "intern\n",
      "cricket\n",
      "includ\n",
      "plu\n",
      "run\n",
      "averag\n",
      "odi\n"
     ]
    },
    {
     "name": "stderr",
     "output_type": "stream",
     "text": [
      "[nltk_data] Downloading package stopwords to\n",
      "[nltk_data]     C:\\Users\\Anirudh\\AppData\\Roaming\\nltk_data...\n",
      "[nltk_data]   Package stopwords is already up-to-date!\n"
     ]
    }
   ],
   "source": [
    "# applying stemming \n",
    "nltk.download('stopwords')\n",
    "for i in corpus:\n",
    "    #sentence to words\n",
    "    words=nltk.word_tokenize(i)\n",
    "    for word in words:\n",
    "        if word not in set(stopwords.words('english')):\n",
    "            print(stemmer.stem(word))\n"
   ]
  },
  {
   "cell_type": "code",
   "execution_count": 16,
   "id": "2f910d39",
   "metadata": {},
   "outputs": [
    {
     "name": "stdout",
     "output_type": "stream",
     "text": [
      "mahendra\n",
      "singh\n",
      "dhoni\n",
      "ndr\n",
      "dh\n",
      "n\n",
      "born\n",
      "july\n",
      "indian\n",
      "professional\n",
      "cricketer\n",
      "right\n",
      "handed\n",
      "batter\n",
      "wicket\n",
      "keeper\n",
      "widely\n",
      "regarded\n",
      "one\n",
      "prolific\n",
      "wicket\n",
      "keeper\n",
      "batsman\n",
      "captain\n",
      "represented\n",
      "indian\n",
      "cricket\n",
      "team\n",
      "captain\n",
      "side\n",
      "limited\n",
      "over\n",
      "format\n",
      "test\n",
      "cricket\n",
      "dhoni\n",
      "captained\n",
      "international\n",
      "match\n",
      "successful\n",
      "indian\n",
      "captain\n",
      "led\n",
      "india\n",
      "victory\n",
      "cricket\n",
      "world\n",
      "cup\n",
      "icc\n",
      "world\n",
      "twenty\n",
      "icc\n",
      "champion\n",
      "trophy\n",
      "captain\n",
      "win\n",
      "three\n",
      "different\n",
      "limited\n",
      "over\n",
      "tournament\n",
      "also\n",
      "led\n",
      "team\n",
      "asia\n",
      "cup\n",
      "member\n",
      "title\n",
      "winning\n",
      "squad\n",
      "born\n",
      "ranchi\n",
      "dhoni\n",
      "made\n",
      "first\n",
      "class\n",
      "debut\n",
      "bihar\n",
      "made\n",
      "debut\n",
      "indian\n",
      "cricket\n",
      "team\n",
      "december\n",
      "odi\n",
      "bangladesh\n",
      "played\n",
      "first\n",
      "test\n",
      "year\n",
      "later\n",
      "sri\n",
      "lanka\n",
      "became\n",
      "captain\n",
      "odi\n",
      "side\n",
      "taking\n",
      "format\n",
      "dhoni\n",
      "retired\n",
      "test\n",
      "cricket\n",
      "continued\n",
      "playing\n",
      "limited\n",
      "over\n",
      "cricket\n",
      "till\n",
      "scored\n",
      "run\n",
      "international\n",
      "cricket\n",
      "including\n",
      "plus\n",
      "run\n",
      "average\n",
      "odis\n"
     ]
    }
   ],
   "source": [
    "#applying lemmatizer\n",
    "for i in corpus:\n",
    "    #sentence to words\n",
    "    words=nltk.word_tokenize(i)\n",
    "    for word in words:\n",
    "        if word not in set(stopwords.words('english')):\n",
    "            print(lemmatizer.lemmatize(word))"
   ]
  },
  {
   "cell_type": "code",
   "execution_count": 17,
   "id": "9a1da904",
   "metadata": {},
   "outputs": [],
   "source": [
    "#applying vectorization\n",
    "\n",
    "from sklearn.feature_extraction.text import CountVectorizer"
   ]
  },
  {
   "cell_type": "code",
   "execution_count": 19,
   "id": "f093a5c9",
   "metadata": {},
   "outputs": [],
   "source": [
    "cv=CountVectorizer(binary=True,ngram_range=(3,3))"
   ]
  },
  {
   "cell_type": "code",
   "execution_count": 20,
   "id": "f8a9899d",
   "metadata": {},
   "outputs": [],
   "source": [
    "x=cv.fit_transform(corpus)"
   ]
  },
  {
   "cell_type": "code",
   "execution_count": 21,
   "id": "32102d38",
   "metadata": {},
   "outputs": [
    {
     "data": {
      "text/plain": [
       "<11x182 sparse matrix of type '<class 'numpy.int64'>'\n",
       "\twith 187 stored elements in Compressed Sparse Row format>"
      ]
     },
     "execution_count": 21,
     "metadata": {},
     "output_type": "execute_result"
    }
   ],
   "source": [
    "x"
   ]
  },
  {
   "cell_type": "code",
   "execution_count": 22,
   "id": "f7ed908c",
   "metadata": {},
   "outputs": [
    {
     "data": {
      "text/plain": [
       "{'mahendra singh dhoni': 104,\n",
       " 'singh dhoni he': 139,\n",
       " 'dhoni he ndr': 47,\n",
       " 'he ndr dh': 68,\n",
       " 'ndr dh born': 111,\n",
       " 'dh born july': 45,\n",
       " 'born july is': 25,\n",
       " 'july is an': 94,\n",
       " 'is an indian': 91,\n",
       " 'an indian professional': 5,\n",
       " 'indian professional cricketer': 88,\n",
       " 'he is right': 66,\n",
       " 'is right handed': 92,\n",
       " 'right handed batter': 133,\n",
       " 'handed batter and': 58,\n",
       " 'batter and wicket': 21,\n",
       " 'and wicket keeper': 14,\n",
       " 'widely regarded as': 175,\n",
       " 'regarded as one': 130,\n",
       " 'as one of': 15,\n",
       " 'one of the': 120,\n",
       " 'of the most': 115,\n",
       " 'the most prolific': 157,\n",
       " 'most prolific wicket': 109,\n",
       " 'prolific wicket keeper': 128,\n",
       " 'wicket keeper batsmen': 174,\n",
       " 'keeper batsmen and': 95,\n",
       " 'batsmen and captains': 20,\n",
       " 'and captains he': 7,\n",
       " 'captains he represented': 30,\n",
       " 'he represented the': 69,\n",
       " 'represented the indian': 131,\n",
       " 'the indian cricket': 155,\n",
       " 'indian cricket team': 87,\n",
       " 'cricket team and': 37,\n",
       " 'team and was': 142,\n",
       " 'and was the': 13,\n",
       " 'was the captain': 173,\n",
       " 'the captain of': 151,\n",
       " 'captain of the': 27,\n",
       " 'of the side': 117,\n",
       " 'the side in': 161,\n",
       " 'side in limited': 138,\n",
       " 'in limited overs': 81,\n",
       " 'limited overs formats': 100,\n",
       " 'overs formats from': 124,\n",
       " 'formats from to': 55,\n",
       " 'from to and': 57,\n",
       " 'to and in': 166,\n",
       " 'and in test': 8,\n",
       " 'in test cricket': 83,\n",
       " 'test cricket from': 145,\n",
       " 'cricket from to': 34,\n",
       " 'dhoni has captained': 46,\n",
       " 'has captained the': 59,\n",
       " 'captained the most': 29,\n",
       " 'the most international': 156,\n",
       " 'most international matches': 108,\n",
       " 'international matches and': 90,\n",
       " 'matches and is': 105,\n",
       " 'and is the': 9,\n",
       " 'is the most': 93,\n",
       " 'the most successful': 158,\n",
       " 'most successful indian': 110,\n",
       " 'successful indian captain': 140,\n",
       " 'he has led': 64,\n",
       " 'has led india': 60,\n",
       " 'led india to': 97,\n",
       " 'india to victory': 86,\n",
       " 'to victory in': 167,\n",
       " 'victory in the': 171,\n",
       " 'in the cricket': 84,\n",
       " 'the cricket world': 152,\n",
       " 'cricket world cup': 39,\n",
       " 'world cup the': 179,\n",
       " 'cup the icc': 41,\n",
       " 'the icc world': 154,\n",
       " 'icc world twenty': 74,\n",
       " 'world twenty and': 180,\n",
       " 'twenty and the': 170,\n",
       " 'and the icc': 11,\n",
       " 'the icc champions': 153,\n",
       " 'icc champions trophy': 73,\n",
       " 'champions trophy the': 31,\n",
       " 'trophy the only': 169,\n",
       " 'the only captain': 160,\n",
       " 'only captain to': 121,\n",
       " 'captain to win': 28,\n",
       " 'to win three': 168,\n",
       " 'win three different': 176,\n",
       " 'three different limited': 164,\n",
       " 'different limited overs': 50,\n",
       " 'limited overs tournaments': 101,\n",
       " 'he also led': 62,\n",
       " 'also led the': 3,\n",
       " 'led the teams': 98,\n",
       " 'the teams that': 162,\n",
       " 'teams that won': 144,\n",
       " 'that won the': 149,\n",
       " 'won the asia': 178,\n",
       " 'the asia cup': 150,\n",
       " 'asia cup in': 16,\n",
       " 'cup in and': 40,\n",
       " 'in and was': 77,\n",
       " 'and was member': 12,\n",
       " 'was member of': 172,\n",
       " 'member of the': 106,\n",
       " 'of the title': 118,\n",
       " 'the title winning': 163,\n",
       " 'title winning squad': 165,\n",
       " 'winning squad in': 177,\n",
       " 'born in ranchi': 24,\n",
       " 'in ranchi dhoni': 82,\n",
       " 'ranchi dhoni made': 129,\n",
       " 'dhoni made his': 48,\n",
       " 'made his first': 103,\n",
       " 'his first class': 71,\n",
       " 'first class debut': 51,\n",
       " 'class debut for': 32,\n",
       " 'debut for bihar': 42,\n",
       " 'for bihar in': 53,\n",
       " 'he made his': 67,\n",
       " 'made his debut': 102,\n",
       " 'his debut for': 70,\n",
       " 'debut for the': 43,\n",
       " 'for the indian': 54,\n",
       " 'cricket team on': 38,\n",
       " 'team on december': 143,\n",
       " 'on december in': 119,\n",
       " 'december in an': 44,\n",
       " 'in an odi': 76,\n",
       " 'an odi against': 6,\n",
       " 'odi against bangladesh': 112,\n",
       " 'against bangladesh and': 0,\n",
       " 'bangladesh and played': 19,\n",
       " 'and played his': 10,\n",
       " 'played his first': 125,\n",
       " 'his first test': 72,\n",
       " 'first test year': 52,\n",
       " 'test year later': 147,\n",
       " 'year later against': 181,\n",
       " 'later against sri': 96,\n",
       " 'against sri lanka': 1,\n",
       " 'in he became': 79,\n",
       " 'he became the': 63,\n",
       " 'became the captain': 22,\n",
       " 'of the odi': 116,\n",
       " 'the odi side': 159,\n",
       " 'odi side before': 113,\n",
       " 'side before taking': 137,\n",
       " 'before taking over': 23,\n",
       " 'taking over in': 141,\n",
       " 'over in all': 122,\n",
       " 'in all formats': 75,\n",
       " 'all formats by': 2,\n",
       " 'dhoni retired from': 49,\n",
       " 'retired from test': 132,\n",
       " 'from test cricket': 56,\n",
       " 'test cricket in': 146,\n",
       " 'cricket in but': 35,\n",
       " 'in but continued': 78,\n",
       " 'but continued playing': 26,\n",
       " 'continued playing in': 33,\n",
       " 'playing in limited': 126,\n",
       " 'limited overs cricket': 99,\n",
       " 'overs cricket till': 123,\n",
       " 'he has scored': 65,\n",
       " 'has scored runs': 61,\n",
       " 'scored runs in': 136,\n",
       " 'runs in international': 135,\n",
       " 'in international cricket': 80,\n",
       " 'international cricket including': 89,\n",
       " 'cricket including plus': 36,\n",
       " 'including plus runs': 85,\n",
       " 'plus runs at': 127,\n",
       " 'runs at an': 134,\n",
       " 'at an average': 17,\n",
       " 'an average of': 4,\n",
       " 'average of more': 18,\n",
       " 'of more than': 114,\n",
       " 'more than in': 107,\n",
       " 'than in odis': 148}"
      ]
     },
     "execution_count": 22,
     "metadata": {},
     "output_type": "execute_result"
    }
   ],
   "source": [
    "# here the index of each of them is mentioned\n",
    "cv.vocabulary_"
   ]
  },
  {
   "cell_type": "code",
   "execution_count": 23,
   "id": "2a520c62",
   "metadata": {},
   "outputs": [
    {
     "data": {
      "text/plain": [
       "' mahendra singh dhoni   m  he ndr   s   dh  n      born   july       is an indian professional cricketer '"
      ]
     },
     "execution_count": 23,
     "metadata": {},
     "output_type": "execute_result"
    }
   ],
   "source": [
    "corpus[0]"
   ]
  },
  {
   "cell_type": "code",
   "execution_count": 24,
   "id": "76f0d2e0",
   "metadata": {},
   "outputs": [
    {
     "data": {
      "text/plain": [
       "array([[0, 0, 0, 0, 0, 1, 0, 0, 0, 0, 0, 0, 0, 0, 0, 0, 0, 0, 0, 0, 0, 0,\n",
       "        0, 0, 0, 1, 0, 0, 0, 0, 0, 0, 0, 0, 0, 0, 0, 0, 0, 0, 0, 0, 0, 0,\n",
       "        0, 1, 0, 1, 0, 0, 0, 0, 0, 0, 0, 0, 0, 0, 0, 0, 0, 0, 0, 0, 0, 0,\n",
       "        0, 0, 1, 0, 0, 0, 0, 0, 0, 0, 0, 0, 0, 0, 0, 0, 0, 0, 0, 0, 0, 0,\n",
       "        1, 0, 0, 1, 0, 0, 1, 0, 0, 0, 0, 0, 0, 0, 0, 0, 1, 0, 0, 0, 0, 0,\n",
       "        0, 1, 0, 0, 0, 0, 0, 0, 0, 0, 0, 0, 0, 0, 0, 0, 0, 0, 0, 0, 0, 0,\n",
       "        0, 0, 0, 0, 0, 0, 0, 1, 0, 0, 0, 0, 0, 0, 0, 0, 0, 0, 0, 0, 0, 0,\n",
       "        0, 0, 0, 0, 0, 0, 0, 0, 0, 0, 0, 0, 0, 0, 0, 0, 0, 0, 0, 0, 0, 0,\n",
       "        0, 0, 0, 0, 0, 0]], dtype=int64)"
      ]
     },
     "execution_count": 24,
     "metadata": {},
     "output_type": "execute_result"
    }
   ],
   "source": [
    "# applying bag of words\n",
    "x[0].toarray()"
   ]
  },
  {
   "cell_type": "code",
   "execution_count": 29,
   "id": "370fcbeb",
   "metadata": {},
   "outputs": [],
   "source": [
    "#TF-IDF\n",
    "from sklearn.feature_extraction.text import TfidfVectorizer\n",
    "\n",
    "cv=TfidfVectorizer()\n",
    "x=cv.fit_transform(corpus)"
   ]
  },
  {
   "cell_type": "code",
   "execution_count": 30,
   "id": "58352981",
   "metadata": {},
   "outputs": [
    {
     "data": {
      "text/plain": [
       "' mahendra singh dhoni   m  he ndr   s   dh  n      born   july       is an indian professional cricketer '"
      ]
     },
     "execution_count": 30,
     "metadata": {},
     "output_type": "execute_result"
    }
   ],
   "source": [
    "corpus[0]"
   ]
  },
  {
   "cell_type": "code",
   "execution_count": 31,
   "id": "e31b2af2",
   "metadata": {},
   "outputs": [
    {
     "data": {
      "text/plain": [
       "array([[0.        , 0.        , 0.        , 0.23799805, 0.        ,\n",
       "        0.        , 0.        , 0.        , 0.        , 0.        ,\n",
       "        0.        , 0.        , 0.        , 0.        , 0.        ,\n",
       "        0.27062331, 0.        , 0.        , 0.        , 0.        ,\n",
       "        0.        , 0.        , 0.        , 0.        , 0.        ,\n",
       "        0.31660603, 0.        , 0.        , 0.        , 0.31660603,\n",
       "        0.21269193, 0.        , 0.        , 0.        , 0.        ,\n",
       "        0.        , 0.        , 0.        , 0.14603261, 0.        ,\n",
       "        0.        , 0.        , 0.        , 0.        , 0.21269193,\n",
       "        0.        , 0.23799805, 0.31660603, 0.        , 0.        ,\n",
       "        0.        , 0.        , 0.        , 0.        , 0.31660603,\n",
       "        0.        , 0.        , 0.        , 0.        , 0.31660603,\n",
       "        0.        , 0.        , 0.        , 0.        , 0.        ,\n",
       "        0.        , 0.        , 0.        , 0.        , 0.        ,\n",
       "        0.        , 0.31660603, 0.        , 0.        , 0.        ,\n",
       "        0.        , 0.        , 0.        , 0.        , 0.        ,\n",
       "        0.        , 0.31660603, 0.        , 0.        , 0.        ,\n",
       "        0.        , 0.        , 0.        , 0.        , 0.        ,\n",
       "        0.        , 0.        , 0.        , 0.        , 0.        ,\n",
       "        0.        , 0.        , 0.        , 0.        , 0.        ,\n",
       "        0.        , 0.        , 0.        , 0.        , 0.        ,\n",
       "        0.        , 0.        , 0.        ]])"
      ]
     },
     "execution_count": 31,
     "metadata": {},
     "output_type": "execute_result"
    }
   ],
   "source": [
    "x[0].toarray()\n",
    "\n",
    "## here we can see some importance is given to some sentances unlike bag of words"
   ]
  },
  {
   "cell_type": "code",
   "execution_count": null,
   "id": "d545a7d0",
   "metadata": {},
   "outputs": [],
   "source": []
  }
 ],
 "metadata": {
  "kernelspec": {
   "display_name": "Python 3 (ipykernel)",
   "language": "python",
   "name": "python3"
  },
  "language_info": {
   "codemirror_mode": {
    "name": "ipython",
    "version": 3
   },
   "file_extension": ".py",
   "mimetype": "text/x-python",
   "name": "python",
   "nbconvert_exporter": "python",
   "pygments_lexer": "ipython3",
   "version": "3.11.5"
  }
 },
 "nbformat": 4,
 "nbformat_minor": 5
}
