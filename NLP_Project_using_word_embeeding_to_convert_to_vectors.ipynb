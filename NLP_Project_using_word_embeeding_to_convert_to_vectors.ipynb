{
  "nbformat": 4,
  "nbformat_minor": 0,
  "metadata": {
    "colab": {
      "provenance": [],
      "gpuType": "T4"
    },
    "kernelspec": {
      "name": "python3",
      "display_name": "Python 3"
    },
    "language_info": {
      "name": "python"
    },
    "accelerator": "GPU"
  },
  "cells": [
    {
      "cell_type": "code",
      "execution_count": null,
      "metadata": {
        "id": "yUVhz_EcWEQr"
      },
      "outputs": [],
      "source": [
        "!pip install tensorflow-gpu"
      ]
    },
    {
      "cell_type": "code",
      "source": [
        "import tensorflow as tf"
      ],
      "metadata": {
        "id": "7zm9mb3HWS7J"
      },
      "execution_count": 7,
      "outputs": []
    },
    {
      "cell_type": "code",
      "source": [
        "tf.__version__"
      ],
      "metadata": {
        "colab": {
          "base_uri": "https://localhost:8080/",
          "height": 35
        },
        "id": "M_FZ0zJqWja9",
        "outputId": "8627b3f0-e98e-444e-d8ba-73fbe60cf21c"
      },
      "execution_count": 4,
      "outputs": [
        {
          "output_type": "execute_result",
          "data": {
            "text/plain": [
              "'2.15.0'"
            ],
            "application/vnd.google.colaboratory.intrinsic+json": {
              "type": "string"
            }
          },
          "metadata": {},
          "execution_count": 4
        }
      ]
    },
    {
      "cell_type": "code",
      "source": [
        "from tensorflow.keras.preprocessing.text import one_hot"
      ],
      "metadata": {
        "id": "ID_RWE7pWl-z"
      },
      "execution_count": 10,
      "outputs": []
    },
    {
      "cell_type": "code",
      "source": [
        "corpus=['I am a data scientist','I like playing football','I am a developer','understand the meaning of words']"
      ],
      "metadata": {
        "id": "McjAMEw-Wv3y"
      },
      "execution_count": 11,
      "outputs": []
    },
    {
      "cell_type": "code",
      "source": [
        "corpus"
      ],
      "metadata": {
        "colab": {
          "base_uri": "https://localhost:8080/"
        },
        "id": "2JY8c1RzYRKh",
        "outputId": "e6bd3aa5-92d2-4cae-8961-b3906797ac55"
      },
      "execution_count": 12,
      "outputs": [
        {
          "output_type": "execute_result",
          "data": {
            "text/plain": [
              "['I am a data scientist',\n",
              " 'I like playing football',\n",
              " 'I am a developer',\n",
              " 'understand the meaning of words']"
            ]
          },
          "metadata": {},
          "execution_count": 12
        }
      ]
    },
    {
      "cell_type": "code",
      "source": [
        "voc_size=10000"
      ],
      "metadata": {
        "id": "kgUEIJLdYR61"
      },
      "execution_count": 13,
      "outputs": []
    },
    {
      "cell_type": "code",
      "source": [
        "one_hot_rep=[one_hot(word,voc_size) for word in corpus]"
      ],
      "metadata": {
        "id": "CH2cHLtrYXSh"
      },
      "execution_count": 18,
      "outputs": []
    },
    {
      "cell_type": "code",
      "source": [
        "one_hot_rep"
      ],
      "metadata": {
        "colab": {
          "base_uri": "https://localhost:8080/"
        },
        "id": "HIu89XIxYeQo",
        "outputId": "a2c40fd7-30f0-40ed-a7aa-30648deed5bd"
      },
      "execution_count": 19,
      "outputs": [
        {
          "output_type": "execute_result",
          "data": {
            "text/plain": [
              "[[7404, 7167, 4481, 1428, 8635],\n",
              " [7404, 9300, 5286, 7974],\n",
              " [7404, 7167, 4481, 3700],\n",
              " [9927, 4516, 7657, 6497, 3897]]"
            ]
          },
          "metadata": {},
          "execution_count": 19
        }
      ]
    },
    {
      "cell_type": "code",
      "source": [
        "#different sentances have different length so cannot train hence we use padding pre and post padding"
      ],
      "metadata": {
        "id": "b3Xj1xLuYgcR"
      },
      "execution_count": 20,
      "outputs": []
    },
    {
      "cell_type": "code",
      "source": [
        "from tensorflow.keras.layers import Embedding\n",
        "from tensorflow.keras.preprocessing.sequence import pad_sequences\n",
        "from tensorflow.keras.models import Sequential"
      ],
      "metadata": {
        "id": "cYitZ0H4YyyE"
      },
      "execution_count": 21,
      "outputs": []
    },
    {
      "cell_type": "code",
      "source": [
        "# adding padding to make each sentances of equal length\n",
        "\n",
        "max_length=7\n",
        "\n",
        "#'pre' means will add 0's at begenning\n",
        "embedding_doc=pad_sequences(one_hot_rep,padding='pre',maxlen=max_length)"
      ],
      "metadata": {
        "id": "ryro4WFwZHFC"
      },
      "execution_count": 22,
      "outputs": []
    },
    {
      "cell_type": "code",
      "source": [
        "embedding_doc"
      ],
      "metadata": {
        "colab": {
          "base_uri": "https://localhost:8080/"
        },
        "id": "VMtOvl7sZ4Cp",
        "outputId": "8d76d79c-816e-42fe-b7de-7ce886997488"
      },
      "execution_count": 23,
      "outputs": [
        {
          "output_type": "execute_result",
          "data": {
            "text/plain": [
              "array([[   0,    0, 7404, 7167, 4481, 1428, 8635],\n",
              "       [   0,    0,    0, 7404, 9300, 5286, 7974],\n",
              "       [   0,    0,    0, 7404, 7167, 4481, 3700],\n",
              "       [   0,    0, 9927, 4516, 7657, 6497, 3897]], dtype=int32)"
            ]
          },
          "metadata": {},
          "execution_count": 23
        }
      ]
    },
    {
      "cell_type": "code",
      "source": [
        "model=Sequential()\n",
        "\n",
        "# each word will be represented by 10 vectors\n",
        "model.add(Embedding(voc_size,10,input_length=max_length))\n",
        "model.compile('adam','mse')"
      ],
      "metadata": {
        "id": "ULRvpjwQZ51w"
      },
      "execution_count": 25,
      "outputs": []
    },
    {
      "cell_type": "code",
      "source": [
        "model.summary()"
      ],
      "metadata": {
        "colab": {
          "base_uri": "https://localhost:8080/"
        },
        "id": "0ZR6u4_9auAq",
        "outputId": "82816a87-3dea-4044-961a-6355a7b227fd"
      },
      "execution_count": 27,
      "outputs": [
        {
          "output_type": "stream",
          "name": "stdout",
          "text": [
            "Model: \"sequential_1\"\n",
            "_________________________________________________________________\n",
            " Layer (type)                Output Shape              Param #   \n",
            "=================================================================\n",
            " embedding_1 (Embedding)     (None, 7, 10)             100000    \n",
            "                                                                 \n",
            "=================================================================\n",
            "Total params: 100000 (390.62 KB)\n",
            "Trainable params: 100000 (390.62 KB)\n",
            "Non-trainable params: 0 (0.00 Byte)\n",
            "_________________________________________________________________\n"
          ]
        }
      ]
    },
    {
      "cell_type": "code",
      "source": [
        "model.predict(embedding_doc[0])\n",
        "\n",
        "#each word is represented with length of 10 whcih we gave to embeeding layer"
      ],
      "metadata": {
        "colab": {
          "base_uri": "https://localhost:8080/"
        },
        "id": "iXfHkzQ4a4HR",
        "outputId": "1cfce99b-1517-4486-d00c-a258dc4565fb"
      },
      "execution_count": 29,
      "outputs": [
        {
          "output_type": "stream",
          "name": "stdout",
          "text": [
            "1/1 [==============================] - 0s 17ms/step\n"
          ]
        },
        {
          "output_type": "execute_result",
          "data": {
            "text/plain": [
              "array([[ 2.7894031e-02, -7.9556331e-03, -4.4815898e-02, -4.9064279e-02,\n",
              "         2.9201988e-02,  4.4012573e-02,  1.4377069e-02, -2.7872527e-02,\n",
              "        -2.2552526e-02, -1.4593113e-02],\n",
              "       [ 2.7894031e-02, -7.9556331e-03, -4.4815898e-02, -4.9064279e-02,\n",
              "         2.9201988e-02,  4.4012573e-02,  1.4377069e-02, -2.7872527e-02,\n",
              "        -2.2552526e-02, -1.4593113e-02],\n",
              "       [-3.7360955e-02,  1.7714653e-02, -3.6858417e-02, -1.1575032e-02,\n",
              "        -6.8827979e-03,  4.7016133e-02,  6.6641718e-04,  4.7392976e-02,\n",
              "         9.5621347e-03,  2.0815980e-02],\n",
              "       [ 3.6142420e-02,  3.7094664e-02, -3.7463985e-02,  1.2387205e-02,\n",
              "        -3.6393713e-02, -4.1805588e-02, -3.8130902e-02, -4.6546377e-02,\n",
              "         3.9978210e-02,  2.2835400e-02],\n",
              "       [-2.2406662e-02,  3.2061670e-02,  2.7124915e-02, -3.4194946e-02,\n",
              "        -7.9989433e-04,  2.0726807e-03,  5.9342608e-03,  4.8086990e-02,\n",
              "        -4.3802392e-02, -2.7540600e-02],\n",
              "       [ 1.3547912e-03, -4.1111931e-03, -1.2088992e-02, -2.6065696e-02,\n",
              "        -9.7361952e-04, -1.8518340e-02, -1.9776260e-02, -5.2262098e-05,\n",
              "        -6.1886311e-03, -3.0466903e-02],\n",
              "       [-4.5696080e-02, -8.4788688e-03, -3.9934468e-02, -8.2542524e-03,\n",
              "         2.9836297e-03,  4.7938477e-02,  3.9430741e-02,  4.0565912e-02,\n",
              "         8.6735487e-03, -2.5323523e-02]], dtype=float32)"
            ]
          },
          "metadata": {},
          "execution_count": 29
        }
      ]
    },
    {
      "cell_type": "code",
      "source": [],
      "metadata": {
        "id": "1zX0b52rbcOL"
      },
      "execution_count": null,
      "outputs": []
    }
  ]
}